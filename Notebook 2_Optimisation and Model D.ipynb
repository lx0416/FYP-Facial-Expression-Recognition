{
 "cells": [
  {
   "cell_type": "markdown",
   "id": "d1b7ccdf",
   "metadata": {},
   "source": [
    "In continuation from Notebook 1, the train and test data has to be redefined. To reduce time and space complexity, they can be loaded from the .npy files that were saved in Notebook 1."
   ]
  },
  {
   "cell_type": "markdown",
   "id": "3ef23f52",
   "metadata": {},
   "source": [
    "# Import libraries"
   ]
  },
  {
   "cell_type": "code",
   "execution_count": 14,
   "id": "24deb8f1",
   "metadata": {},
   "outputs": [],
   "source": [
    "from sklearn import preprocessing\n",
    "import numpy as np\n",
    "import os\n",
    "import pickle\n",
    "import pandas as pd\n",
    "import matplotlib.pyplot as plt\n",
    "import random\n",
    "from sklearn.model_selection import train_test_split\n",
    "import keras_tuner as kt\n",
    "\n",
    "import tensorflow as tf\n",
    "from tensorflow.keras.preprocessing import image # Module with image-preprocessing utilities\n",
    "from tensorflow.keras.preprocessing.image import load_img, ImageDataGenerator\n",
    "from tensorflow.keras.utils import to_categorical\n",
    "from tensorflow.keras import models, layers\n",
    "from tensorflow.keras.layers import Dense, Input, Dropout,Flatten, Conv2D, Activation, MaxPooling2D\n",
    "from tensorflow.keras.optimizers import Adam\n",
    "from tensorflow.keras.models import load_model\n",
    "from tensorflow.keras.applications import VGG16, ResNet50V2, VGG19, ResNet101, ResNet152\n",
    "from tensorflow.keras.callbacks import EarlyStopping"
   ]
  },
  {
   "cell_type": "markdown",
   "id": "b9d1b759",
   "metadata": {},
   "source": [
    "First and foremost, we load the csv files to ensure that we have the correct set of data."
   ]
  },
  {
   "cell_type": "code",
   "execution_count": 15,
   "id": "2ab2654d",
   "metadata": {
    "colab": {
     "base_uri": "https://localhost:8080/",
     "height": 424
    },
    "id": "YhmPzKI7OUJG",
    "outputId": "a47818f6-bfe1-4d1a-cde5-6e82069bbb66"
   },
   "outputs": [
    {
     "data": {
      "text/html": [
       "<div>\n",
       "<style scoped>\n",
       "    .dataframe tbody tr th:only-of-type {\n",
       "        vertical-align: middle;\n",
       "    }\n",
       "\n",
       "    .dataframe tbody tr th {\n",
       "        vertical-align: top;\n",
       "    }\n",
       "\n",
       "    .dataframe thead th {\n",
       "        text-align: right;\n",
       "    }\n",
       "</style>\n",
       "<table border=\"1\" class=\"dataframe\">\n",
       "  <thead>\n",
       "    <tr style=\"text-align: right;\">\n",
       "      <th></th>\n",
       "      <th>image</th>\n",
       "      <th>label</th>\n",
       "    </tr>\n",
       "  </thead>\n",
       "  <tbody>\n",
       "    <tr>\n",
       "      <th>0</th>\n",
       "      <td>fer2013/train/happy/Training_50449107.jpg</td>\n",
       "      <td>happy</td>\n",
       "    </tr>\n",
       "    <tr>\n",
       "      <th>1</th>\n",
       "      <td>fer2013/train/happy/Training_70433018.jpg</td>\n",
       "      <td>happy</td>\n",
       "    </tr>\n",
       "    <tr>\n",
       "      <th>2</th>\n",
       "      <td>fer2013/train/happy/Training_85610005.jpg</td>\n",
       "      <td>happy</td>\n",
       "    </tr>\n",
       "    <tr>\n",
       "      <th>3</th>\n",
       "      <td>fer2013/train/happy/Training_4460748.jpg</td>\n",
       "      <td>happy</td>\n",
       "    </tr>\n",
       "    <tr>\n",
       "      <th>4</th>\n",
       "      <td>fer2013/train/happy/Training_6312930.jpg</td>\n",
       "      <td>happy</td>\n",
       "    </tr>\n",
       "    <tr>\n",
       "      <th>...</th>\n",
       "      <td>...</td>\n",
       "      <td>...</td>\n",
       "    </tr>\n",
       "    <tr>\n",
       "      <th>28704</th>\n",
       "      <td>fer2013/train/disgust/Training_94788538.jpg</td>\n",
       "      <td>disgust</td>\n",
       "    </tr>\n",
       "    <tr>\n",
       "      <th>28705</th>\n",
       "      <td>fer2013/train/disgust/Training_81049148.jpg</td>\n",
       "      <td>disgust</td>\n",
       "    </tr>\n",
       "    <tr>\n",
       "      <th>28706</th>\n",
       "      <td>fer2013/train/disgust/Training_28365203.jpg</td>\n",
       "      <td>disgust</td>\n",
       "    </tr>\n",
       "    <tr>\n",
       "      <th>28707</th>\n",
       "      <td>fer2013/train/disgust/Training_39197750.jpg</td>\n",
       "      <td>disgust</td>\n",
       "    </tr>\n",
       "    <tr>\n",
       "      <th>28708</th>\n",
       "      <td>fer2013/train/disgust/Training_12525818.jpg</td>\n",
       "      <td>disgust</td>\n",
       "    </tr>\n",
       "  </tbody>\n",
       "</table>\n",
       "<p>28709 rows × 2 columns</p>\n",
       "</div>"
      ],
      "text/plain": [
       "                                             image    label\n",
       "0        fer2013/train/happy/Training_50449107.jpg    happy\n",
       "1        fer2013/train/happy/Training_70433018.jpg    happy\n",
       "2        fer2013/train/happy/Training_85610005.jpg    happy\n",
       "3         fer2013/train/happy/Training_4460748.jpg    happy\n",
       "4         fer2013/train/happy/Training_6312930.jpg    happy\n",
       "...                                            ...      ...\n",
       "28704  fer2013/train/disgust/Training_94788538.jpg  disgust\n",
       "28705  fer2013/train/disgust/Training_81049148.jpg  disgust\n",
       "28706  fer2013/train/disgust/Training_28365203.jpg  disgust\n",
       "28707  fer2013/train/disgust/Training_39197750.jpg  disgust\n",
       "28708  fer2013/train/disgust/Training_12525818.jpg  disgust\n",
       "\n",
       "[28709 rows x 2 columns]"
      ]
     },
     "execution_count": 15,
     "metadata": {},
     "output_type": "execute_result"
    }
   ],
   "source": [
    "train_df = pd.read_csv(\"train.csv\",usecols=[1,2])\n",
    "train_df"
   ]
  },
  {
   "cell_type": "code",
   "execution_count": 16,
   "id": "10c24831",
   "metadata": {
    "colab": {
     "base_uri": "https://localhost:8080/",
     "height": 424
    },
    "id": "uXyzLswuDHWp",
    "outputId": "fac5f9cc-d0d2-476c-bfc0-06688ca600e1"
   },
   "outputs": [
    {
     "data": {
      "text/html": [
       "<div>\n",
       "<style scoped>\n",
       "    .dataframe tbody tr th:only-of-type {\n",
       "        vertical-align: middle;\n",
       "    }\n",
       "\n",
       "    .dataframe tbody tr th {\n",
       "        vertical-align: top;\n",
       "    }\n",
       "\n",
       "    .dataframe thead th {\n",
       "        text-align: right;\n",
       "    }\n",
       "</style>\n",
       "<table border=\"1\" class=\"dataframe\">\n",
       "  <thead>\n",
       "    <tr style=\"text-align: right;\">\n",
       "      <th></th>\n",
       "      <th>image</th>\n",
       "      <th>label</th>\n",
       "    </tr>\n",
       "  </thead>\n",
       "  <tbody>\n",
       "    <tr>\n",
       "      <th>0</th>\n",
       "      <td>fer2013/test/happy/PrivateTest_45699463.jpg</td>\n",
       "      <td>happy</td>\n",
       "    </tr>\n",
       "    <tr>\n",
       "      <th>1</th>\n",
       "      <td>fer2013/test/happy/PrivateTest_61855708.jpg</td>\n",
       "      <td>happy</td>\n",
       "    </tr>\n",
       "    <tr>\n",
       "      <th>2</th>\n",
       "      <td>fer2013/test/happy/PublicTest_53681781.jpg</td>\n",
       "      <td>happy</td>\n",
       "    </tr>\n",
       "    <tr>\n",
       "      <th>3</th>\n",
       "      <td>fer2013/test/happy/PrivateTest_52109800.jpg</td>\n",
       "      <td>happy</td>\n",
       "    </tr>\n",
       "    <tr>\n",
       "      <th>4</th>\n",
       "      <td>fer2013/test/happy/PublicTest_41104919.jpg</td>\n",
       "      <td>happy</td>\n",
       "    </tr>\n",
       "    <tr>\n",
       "      <th>...</th>\n",
       "      <td>...</td>\n",
       "      <td>...</td>\n",
       "    </tr>\n",
       "    <tr>\n",
       "      <th>7173</th>\n",
       "      <td>fer2013/test/disgust/PrivateTest_79683471.jpg</td>\n",
       "      <td>disgust</td>\n",
       "    </tr>\n",
       "    <tr>\n",
       "      <th>7174</th>\n",
       "      <td>fer2013/test/disgust/PrivateTest_34013087.jpg</td>\n",
       "      <td>disgust</td>\n",
       "    </tr>\n",
       "    <tr>\n",
       "      <th>7175</th>\n",
       "      <td>fer2013/test/disgust/PublicTest_67559665.jpg</td>\n",
       "      <td>disgust</td>\n",
       "    </tr>\n",
       "    <tr>\n",
       "      <th>7176</th>\n",
       "      <td>fer2013/test/disgust/PrivateTest_89077668.jpg</td>\n",
       "      <td>disgust</td>\n",
       "    </tr>\n",
       "    <tr>\n",
       "      <th>7177</th>\n",
       "      <td>fer2013/test/disgust/PrivateTest_53395751.jpg</td>\n",
       "      <td>disgust</td>\n",
       "    </tr>\n",
       "  </tbody>\n",
       "</table>\n",
       "<p>7178 rows × 2 columns</p>\n",
       "</div>"
      ],
      "text/plain": [
       "                                              image    label\n",
       "0       fer2013/test/happy/PrivateTest_45699463.jpg    happy\n",
       "1       fer2013/test/happy/PrivateTest_61855708.jpg    happy\n",
       "2        fer2013/test/happy/PublicTest_53681781.jpg    happy\n",
       "3       fer2013/test/happy/PrivateTest_52109800.jpg    happy\n",
       "4        fer2013/test/happy/PublicTest_41104919.jpg    happy\n",
       "...                                             ...      ...\n",
       "7173  fer2013/test/disgust/PrivateTest_79683471.jpg  disgust\n",
       "7174  fer2013/test/disgust/PrivateTest_34013087.jpg  disgust\n",
       "7175   fer2013/test/disgust/PublicTest_67559665.jpg  disgust\n",
       "7176  fer2013/test/disgust/PrivateTest_89077668.jpg  disgust\n",
       "7177  fer2013/test/disgust/PrivateTest_53395751.jpg  disgust\n",
       "\n",
       "[7178 rows x 2 columns]"
      ]
     },
     "execution_count": 16,
     "metadata": {},
     "output_type": "execute_result"
    }
   ],
   "source": [
    "test_df = pd.read_csv(\"test.csv\",usecols=[1,2])\n",
    "test_df"
   ]
  },
  {
   "cell_type": "markdown",
   "id": "864abf42",
   "metadata": {},
   "source": [
    "Then, we load the train and test data."
   ]
  },
  {
   "cell_type": "code",
   "execution_count": null,
   "id": "a21ad47a",
   "metadata": {
    "id": "C9fRv3cCjdvq"
   },
   "outputs": [],
   "source": [
    "x_train = np.load('x_train_data.npy')\n",
    "print('x_train ', x_train.shape)\n",
    "x_test = np.load('x_test_data.npy')\n",
    "print('x_test ', x_test.shape)"
   ]
  },
  {
   "cell_type": "code",
   "execution_count": 7,
   "id": "e72c8b3b",
   "metadata": {
    "id": "bDCzNN-elNAI"
   },
   "outputs": [],
   "source": [
    "y_train = np.load('y_train_data.npy')\n",
    "y_test = np.load('y_test_data.npy')"
   ]
  },
  {
   "cell_type": "markdown",
   "id": "a11412ac",
   "metadata": {},
   "source": [
    "We apply train_test_split to the data accordingly."
   ]
  },
  {
   "cell_type": "code",
   "execution_count": 8,
   "id": "88c4dff7",
   "metadata": {
    "id": "uXKH5eRqpAQT"
   },
   "outputs": [],
   "source": [
    "partial_X_train, X_val, partial_y_train, y_val = train_test_split(x_train, y_train, test_size=0.2, random_state=42)"
   ]
  },
  {
   "cell_type": "code",
   "execution_count": 9,
   "id": "7c2be7ee",
   "metadata": {
    "colab": {
     "base_uri": "https://localhost:8080/"
    },
    "id": "IBjE5QTXpHM0",
    "outputId": "25baacea-33fe-41c6-a67e-74ad669cdf9a"
   },
   "outputs": [
    {
     "name": "stdout",
     "output_type": "stream",
     "text": [
      "(22967, 48, 48, 3)\n",
      "(5742, 48, 48, 3)\n",
      "(22967, 7)\n",
      "(5742, 7)\n"
     ]
    }
   ],
   "source": [
    "print(partial_X_train.shape)\n",
    "print(X_val.shape)\n",
    "print(partial_y_train.shape)\n",
    "print(y_val.shape)"
   ]
  },
  {
   "cell_type": "markdown",
   "id": "4e90e571",
   "metadata": {},
   "source": [
    "Continuing from Notebook 1, hyperparameter tuning will be implemented. "
   ]
  },
  {
   "cell_type": "markdown",
   "id": "549a7db7",
   "metadata": {},
   "source": [
    "# Hyperparameter Tuning using keras tuner\n",
    "There are various algorithm tuners such as Random Search and Hyperband, but in this case, Hyperband is selected as it solves the problem of Random Search which is wastage of resources. Random Search may randomly choose some values which are clearly inefficient but will still do training and validate on it. Hyperband solves this by training only for a few epochs rather than doing a full training run and then selects the best values based on the results. This cycle is repeated until it finally does a full training run and evaluate the model using the best hyperparameters.\n",
    "\n",
    "The references adopted are as follows:\n",
    "\n",
    "https://www.sicara.fr/blog-technique/hyperparameter-tuning-keras-tuner\n",
    "\n",
    "https://www.tensorflow.org/tutorials/keras/keras_tuner"
   ]
  },
  {
   "cell_type": "code",
   "execution_count": 25,
   "id": "585ec6fd",
   "metadata": {},
   "outputs": [],
   "source": [
    "def CNN_builder(hp):\n",
    "    model = models.Sequential()\n",
    "\n",
    "    # Tune the number of units in the Convolutional and Dense layers\n",
    "    # Finds the optimal value between 64, 128, 256 and 512\n",
    "    \n",
    "    model.add(Conv2D(filters=hp.Choice('conv1_filter', values=[64, 128, 256, 512]), kernel_size=(3,3), activation='relu', input_shape=(48,48,1), \n",
    "                     kernel_regularizer=tf.keras.regularizers.L2(hp.Float('conv1_L2', min_value=0.00001, max_value=0.00015, step=0.00001))))\n",
    "    model.add(MaxPooling2D(pool_size=(2, 2)))\n",
    "    \n",
    "    model.add(Conv2D(filters=hp.Choice('conv2_filter', values=[64, 128, 256, 512]), kernel_size=(3,3), activation='relu', \n",
    "                     kernel_regularizer=tf.keras.regularizers.L2(hp.Float('conv2_L2', min_value=0.00001, max_value=0.00015, step=0.00001))))\n",
    "    model.add(MaxPooling2D(pool_size=(2, 2)))\n",
    "    \n",
    "    model.add(Conv2D(filters=hp.Choice('conv3_filter', values=[64, 128, 256, 512]), kernel_size=(3,3), activation='relu', \n",
    "                     kernel_regularizer=tf.keras.regularizers.L2(hp.Float('conv3_L2', min_value=0.00001, max_value=0.00015, step=0.00001))))\n",
    "    model.add(MaxPooling2D(pool_size=(2, 2)))\n",
    "\n",
    "    model.add(Flatten())\n",
    "    model.add(Dense(units=hp.Choice('dense1_filter', values=[64, 128, 256, 512]), activation='relu', \n",
    "                    kernel_regularizer=tf.keras.regularizers.L2(hp.Float('dense1_L2', min_value=0.00001, max_value=0.00015, step=0.00001))))\n",
    "    model.add(Dense(units=hp.Choice('dense2_filter', values=[64, 128, 256, 512]), activation='relu', \n",
    "                    kernel_regularizer=tf.keras.regularizers.L2(hp.Float('dense2_L2', min_value=0.00001, max_value=0.00015, step=0.00001))))\n",
    "    model.add(Dense(7, activation='softmax'))\n",
    "\n",
    "    tf.random.set_seed(42)\n",
    "    model.compile(optimizer='adam', loss='categorical_crossentropy', metrics='accuracy')\n",
    "\n",
    "    return model"
   ]
  },
  {
   "cell_type": "code",
   "execution_count": 26,
   "id": "3226051c",
   "metadata": {},
   "outputs": [
    {
     "name": "stderr",
     "output_type": "stream",
     "text": [
      "2022-08-12 18:11:00.476419: I tensorflow/core/platform/cpu_feature_guard.cc:193] This TensorFlow binary is optimized with oneAPI Deep Neural Network Library (oneDNN) to use the following CPU instructions in performance-critical operations:  AVX2 FMA\n",
      "To enable them in other operations, rebuild TensorFlow with the appropriate compiler flags.\n"
     ]
    }
   ],
   "source": [
    "# Calling Hyperband to build our CNN model\n",
    "tuner = kt.Hyperband(CNN_builder,\n",
    "                     objective='val_accuracy',\n",
    "                     max_epochs=50,\n",
    "                     directory='cnn_tuner_directory',\n",
    "                     project_name='cnn_tuner')"
   ]
  },
  {
   "cell_type": "code",
   "execution_count": 27,
   "id": "5322811e",
   "metadata": {},
   "outputs": [
    {
     "name": "stdout",
     "output_type": "stream",
     "text": [
      "Search space summary\n",
      "Default search space size: 10\n",
      "conv1_filter (Choice)\n",
      "{'default': 64, 'conditions': [], 'values': [64, 128, 256, 512], 'ordered': True}\n",
      "conv1_L2 (Float)\n",
      "{'default': 1e-05, 'conditions': [], 'min_value': 1e-05, 'max_value': 0.00015, 'step': 1e-05, 'sampling': None}\n",
      "conv2_filter (Choice)\n",
      "{'default': 64, 'conditions': [], 'values': [64, 128, 256, 512], 'ordered': True}\n",
      "conv2_L2 (Float)\n",
      "{'default': 1e-05, 'conditions': [], 'min_value': 1e-05, 'max_value': 0.00015, 'step': 1e-05, 'sampling': None}\n",
      "conv3_filter (Choice)\n",
      "{'default': 64, 'conditions': [], 'values': [64, 128, 256, 512], 'ordered': True}\n",
      "conv3_L2 (Float)\n",
      "{'default': 1e-05, 'conditions': [], 'min_value': 1e-05, 'max_value': 0.00015, 'step': 1e-05, 'sampling': None}\n",
      "dense1_filter (Choice)\n",
      "{'default': 64, 'conditions': [], 'values': [64, 128, 256, 512], 'ordered': True}\n",
      "dense1_L2 (Float)\n",
      "{'default': 1e-05, 'conditions': [], 'min_value': 1e-05, 'max_value': 0.00015, 'step': 1e-05, 'sampling': None}\n",
      "dense2_filter (Choice)\n",
      "{'default': 64, 'conditions': [], 'values': [64, 128, 256, 512], 'ordered': True}\n",
      "dense2_L2 (Float)\n",
      "{'default': 1e-05, 'conditions': [], 'min_value': 1e-05, 'max_value': 0.00015, 'step': 1e-05, 'sampling': None}\n"
     ]
    }
   ],
   "source": [
    "# Prints the hyperparameters to search the optimal values for\n",
    "tuner.search_space_summary()"
   ]
  },
  {
   "cell_type": "code",
   "execution_count": 28,
   "id": "eb70b1e4",
   "metadata": {},
   "outputs": [],
   "source": [
    "# Define a stop early function; stops training when validation loss stops improving for 5 epochs\n",
    "stop_early = tf.keras.callbacks.EarlyStopping(monitor='val_loss', patience=5)"
   ]
  },
  {
   "cell_type": "code",
   "execution_count": 29,
   "id": "cc73aa46",
   "metadata": {},
   "outputs": [
    {
     "name": "stdout",
     "output_type": "stream",
     "text": [
      "Trial 90 Complete [00h 30m 46s]\n",
      "val_accuracy: 0.5593869686126709\n",
      "\n",
      "Best val_accuracy So Far: 0.5696621537208557\n",
      "Total elapsed time: 5d 03h 23m 28s\n",
      "INFO:tensorflow:Oracle triggered exit\n"
     ]
    }
   ],
   "source": [
    "# Process of searching for the optimal hyperparameters\n",
    "tuner.search(partial_X_train, partial_y_train, epochs=50, validation_data=(X_val, y_val), \n",
    "             batch_size=64, callbacks=[stop_early])"
   ]
  },
  {
   "cell_type": "code",
   "execution_count": 32,
   "id": "61d5574b",
   "metadata": {},
   "outputs": [
    {
     "data": {
      "text/plain": [
       "{'conv1_filter': 128,\n",
       " 'conv1_L2': 0.00011,\n",
       " 'conv2_filter': 256,\n",
       " 'conv2_L2': 2e-05,\n",
       " 'conv3_filter': 128,\n",
       " 'conv3_L2': 0.00014000000000000001,\n",
       " 'dense1_filter': 512,\n",
       " 'dense1_L2': 8e-05,\n",
       " 'dense2_filter': 256,\n",
       " 'dense2_L2': 2e-05,\n",
       " 'tuner/epochs': 17,\n",
       " 'tuner/initial_epoch': 6,\n",
       " 'tuner/bracket': 3,\n",
       " 'tuner/round': 2,\n",
       " 'tuner/trial_id': '0035'}"
      ]
     },
     "execution_count": 32,
     "metadata": {},
     "output_type": "execute_result"
    }
   ],
   "source": [
    "# Get the optimal hyperparameters\n",
    "best_hp=tuner.get_best_hyperparameters()[0]\n",
    "best_hp.values"
   ]
  },
  {
   "cell_type": "markdown",
   "id": "ae970bac",
   "metadata": {},
   "source": [
    "From the results, some inferences could be derived. For example, the Dense layers decreased from 512 to 256. This could be to prevent overfitting. The Dense layer with 512 neurons could be high for capturing all information, while the Dense layer with a lower 256 neurons could be to prevent overfitting, as a layer with the same of higher number of neurons could start to overfit."
   ]
  },
  {
   "cell_type": "markdown",
   "id": "c7733a0f",
   "metadata": {},
   "source": [
    "After obtaining the optimal hyperparameters, we first run full training on a new model (without data augmentation) using the derived values to discover the effects of data augmentation."
   ]
  },
  {
   "cell_type": "markdown",
   "id": "a9ccd99e",
   "metadata": {},
   "source": [
    "## Model using optimal hyperparameters (without data augmentation)\n",
    "Depending on the results of hyperparameter tuning, the values of the tuned hyperparameters are used for optimization."
   ]
  },
  {
   "cell_type": "code",
   "execution_count": 35,
   "id": "ae732afd",
   "metadata": {},
   "outputs": [],
   "source": [
    "model = models.Sequential()\n",
    "\n",
    "model.add(Conv2D(128, kernel_size=(3,3), activation='relu', input_shape=(48,48,1), \n",
    "                 kernel_regularizer=tf.keras.regularizers.L2(0.00011)))\n",
    "model.add(MaxPooling2D(pool_size=(2,2)))\n",
    "\n",
    "model.add(Conv2D(256, kernel_size=(3,3), activation='relu', \n",
    "                 kernel_regularizer=tf.keras.regularizers.L2(0.00002)))\n",
    "model.add(MaxPooling2D(pool_size=(2,2)))\n",
    "\n",
    "model.add(Conv2D(128, kernel_size=(3,3), activation='relu', \n",
    "                 kernel_regularizer=tf.keras.regularizers.L2(0.00014)))\n",
    "model.add(MaxPooling2D(pool_size=(2,2)))\n",
    "\n",
    "model.add(Flatten())\n",
    "# fully connected layers\n",
    "model.add(Dense(512, activation='relu', kernel_regularizer=tf.keras.regularizers.L2(0.00008)))\n",
    "model.add(Dense(256, activation='relu', kernel_regularizer=tf.keras.regularizers.L2(0.00002)))\n",
    "# output layer\n",
    "model.add(Dense(7, activation='softmax'))\n",
    "\n",
    "tf.random.set_seed(42)\n",
    "model.compile(optimizer='adam', loss='categorical_crossentropy', metrics='accuracy')"
   ]
  },
  {
   "cell_type": "code",
   "execution_count": 36,
   "id": "5e4c0a54",
   "metadata": {},
   "outputs": [
    {
     "name": "stdout",
     "output_type": "stream",
     "text": [
      "Model: \"sequential_1\"\n",
      "_________________________________________________________________\n",
      " Layer (type)                Output Shape              Param #   \n",
      "=================================================================\n",
      " conv2d_3 (Conv2D)           (None, 46, 46, 128)       1280      \n",
      "                                                                 \n",
      " max_pooling2d_3 (MaxPooling  (None, 23, 23, 128)      0         \n",
      " 2D)                                                             \n",
      "                                                                 \n",
      " conv2d_4 (Conv2D)           (None, 21, 21, 256)       295168    \n",
      "                                                                 \n",
      " max_pooling2d_4 (MaxPooling  (None, 10, 10, 256)      0         \n",
      " 2D)                                                             \n",
      "                                                                 \n",
      " conv2d_5 (Conv2D)           (None, 8, 8, 128)         295040    \n",
      "                                                                 \n",
      " max_pooling2d_5 (MaxPooling  (None, 4, 4, 128)        0         \n",
      " 2D)                                                             \n",
      "                                                                 \n",
      " flatten_1 (Flatten)         (None, 2048)              0         \n",
      "                                                                 \n",
      " dense_3 (Dense)             (None, 512)               1049088   \n",
      "                                                                 \n",
      " dense_4 (Dense)             (None, 256)               131328    \n",
      "                                                                 \n",
      " dense_5 (Dense)             (None, 7)                 1799      \n",
      "                                                                 \n",
      "=================================================================\n",
      "Total params: 1,773,703\n",
      "Trainable params: 1,773,703\n",
      "Non-trainable params: 0\n",
      "_________________________________________________________________\n"
     ]
    }
   ],
   "source": [
    "model.summary()"
   ]
  },
  {
   "cell_type": "markdown",
   "id": "ff6f33dc",
   "metadata": {},
   "source": [
    "The number of epochs was increased to view the model training over a longer period of time and determine the optimal number of epochs."
   ]
  },
  {
   "cell_type": "code",
   "execution_count": 37,
   "id": "dd9c1bba",
   "metadata": {},
   "outputs": [
    {
     "name": "stdout",
     "output_type": "stream",
     "text": [
      "Epoch 1/50\n",
      "359/359 [==============================] - 159s 441ms/step - loss: 1.7910 - accuracy: 0.2777 - val_loss: 1.6142 - val_accuracy: 0.3767\n",
      "Epoch 2/50\n",
      "359/359 [==============================] - 170s 474ms/step - loss: 1.5011 - accuracy: 0.4216 - val_loss: 1.3907 - val_accuracy: 0.4645\n",
      "Epoch 3/50\n",
      "359/359 [==============================] - 187s 520ms/step - loss: 1.3424 - accuracy: 0.4917 - val_loss: 1.2857 - val_accuracy: 0.5167\n",
      "Epoch 4/50\n",
      "359/359 [==============================] - 196s 547ms/step - loss: 1.2551 - accuracy: 0.5305 - val_loss: 1.2680 - val_accuracy: 0.5206\n",
      "Epoch 5/50\n",
      "359/359 [==============================] - 203s 567ms/step - loss: 1.1869 - accuracy: 0.5608 - val_loss: 1.2354 - val_accuracy: 0.5442\n",
      "Epoch 6/50\n",
      "359/359 [==============================] - 207s 577ms/step - loss: 1.1285 - accuracy: 0.5851 - val_loss: 1.2335 - val_accuracy: 0.5515\n",
      "Epoch 7/50\n",
      "359/359 [==============================] - 208s 581ms/step - loss: 1.0725 - accuracy: 0.6081 - val_loss: 1.2154 - val_accuracy: 0.5547\n",
      "Epoch 8/50\n",
      "359/359 [==============================] - 211s 587ms/step - loss: 1.0101 - accuracy: 0.6380 - val_loss: 1.2492 - val_accuracy: 0.5507\n",
      "Epoch 9/50\n",
      "359/359 [==============================] - 207s 578ms/step - loss: 0.9498 - accuracy: 0.6599 - val_loss: 1.2218 - val_accuracy: 0.5697\n",
      "Epoch 10/50\n",
      "359/359 [==============================] - 212s 592ms/step - loss: 0.8916 - accuracy: 0.6842 - val_loss: 1.2965 - val_accuracy: 0.5505\n",
      "Epoch 11/50\n",
      "359/359 [==============================] - 211s 587ms/step - loss: 0.8340 - accuracy: 0.7101 - val_loss: 1.3010 - val_accuracy: 0.5556\n",
      "Epoch 12/50\n",
      "359/359 [==============================] - 209s 583ms/step - loss: 0.7653 - accuracy: 0.7389 - val_loss: 1.3182 - val_accuracy: 0.5641\n",
      "Epoch 13/50\n",
      "359/359 [==============================] - 198s 552ms/step - loss: 0.7069 - accuracy: 0.7620 - val_loss: 1.3779 - val_accuracy: 0.5543\n",
      "Epoch 14/50\n",
      "359/359 [==============================] - 197s 550ms/step - loss: 0.6420 - accuracy: 0.7870 - val_loss: 1.5761 - val_accuracy: 0.5524\n",
      "Epoch 15/50\n",
      "359/359 [==============================] - 197s 550ms/step - loss: 0.5879 - accuracy: 0.8095 - val_loss: 1.6245 - val_accuracy: 0.5561\n",
      "Epoch 16/50\n",
      "359/359 [==============================] - 208s 579ms/step - loss: 0.5236 - accuracy: 0.8363 - val_loss: 1.7225 - val_accuracy: 0.5482\n",
      "Epoch 17/50\n",
      "359/359 [==============================] - 218s 607ms/step - loss: 0.4681 - accuracy: 0.8586 - val_loss: 1.8854 - val_accuracy: 0.5538\n",
      "Epoch 18/50\n",
      "359/359 [==============================] - 213s 593ms/step - loss: 0.4278 - accuracy: 0.8758 - val_loss: 2.0087 - val_accuracy: 0.5481\n",
      "Epoch 19/50\n",
      "359/359 [==============================] - 213s 592ms/step - loss: 0.3839 - accuracy: 0.8892 - val_loss: 2.1182 - val_accuracy: 0.5489\n",
      "Epoch 20/50\n",
      "359/359 [==============================] - 215s 599ms/step - loss: 0.3661 - accuracy: 0.9009 - val_loss: 2.3099 - val_accuracy: 0.5451\n",
      "Epoch 21/50\n",
      "359/359 [==============================] - 218s 609ms/step - loss: 0.3352 - accuracy: 0.9136 - val_loss: 2.4645 - val_accuracy: 0.5442\n",
      "Epoch 22/50\n",
      "359/359 [==============================] - 226s 628ms/step - loss: 0.3197 - accuracy: 0.9182 - val_loss: 2.4377 - val_accuracy: 0.5411\n",
      "Epoch 23/50\n",
      "359/359 [==============================] - 222s 617ms/step - loss: 0.2836 - accuracy: 0.9329 - val_loss: 2.6876 - val_accuracy: 0.5378\n",
      "Epoch 24/50\n",
      "359/359 [==============================] - 223s 621ms/step - loss: 0.2741 - accuracy: 0.9372 - val_loss: 2.9440 - val_accuracy: 0.5320\n",
      "Epoch 25/50\n",
      "359/359 [==============================] - 231s 644ms/step - loss: 0.2845 - accuracy: 0.9365 - val_loss: 2.9959 - val_accuracy: 0.5411\n",
      "Epoch 26/50\n",
      "359/359 [==============================] - 223s 621ms/step - loss: 0.2679 - accuracy: 0.9437 - val_loss: 3.0219 - val_accuracy: 0.5437\n",
      "Epoch 27/50\n",
      "359/359 [==============================] - 221s 615ms/step - loss: 0.2642 - accuracy: 0.9446 - val_loss: 3.1433 - val_accuracy: 0.5383\n",
      "Epoch 28/50\n",
      "359/359 [==============================] - 218s 608ms/step - loss: 0.2402 - accuracy: 0.9540 - val_loss: 3.3193 - val_accuracy: 0.5376\n",
      "Epoch 29/50\n",
      "359/359 [==============================] - 219s 610ms/step - loss: 0.2553 - accuracy: 0.9496 - val_loss: 3.2679 - val_accuracy: 0.5390\n",
      "Epoch 30/50\n",
      "359/359 [==============================] - 224s 625ms/step - loss: 0.2459 - accuracy: 0.9518 - val_loss: 3.4950 - val_accuracy: 0.5317\n",
      "Epoch 31/50\n",
      "359/359 [==============================] - 220s 612ms/step - loss: 0.2371 - accuracy: 0.9573 - val_loss: 3.4025 - val_accuracy: 0.5361\n",
      "Epoch 32/50\n",
      "359/359 [==============================] - 221s 615ms/step - loss: 0.2367 - accuracy: 0.9586 - val_loss: 3.4133 - val_accuracy: 0.5378\n",
      "Epoch 33/50\n",
      "359/359 [==============================] - 220s 613ms/step - loss: 0.2468 - accuracy: 0.9545 - val_loss: 3.4164 - val_accuracy: 0.5350\n",
      "Epoch 34/50\n",
      "359/359 [==============================] - 224s 625ms/step - loss: 0.2467 - accuracy: 0.9555 - val_loss: 3.5866 - val_accuracy: 0.5416\n",
      "Epoch 35/50\n",
      "359/359 [==============================] - 223s 621ms/step - loss: 0.2261 - accuracy: 0.9636 - val_loss: 3.4981 - val_accuracy: 0.5421\n",
      "Epoch 36/50\n",
      "359/359 [==============================] - 229s 637ms/step - loss: 0.2305 - accuracy: 0.9629 - val_loss: 3.5913 - val_accuracy: 0.5390\n",
      "Epoch 37/50\n",
      "359/359 [==============================] - 227s 631ms/step - loss: 0.2280 - accuracy: 0.9639 - val_loss: 3.7827 - val_accuracy: 0.5313\n",
      "Epoch 38/50\n",
      "359/359 [==============================] - 260s 724ms/step - loss: 0.2349 - accuracy: 0.9632 - val_loss: 3.7662 - val_accuracy: 0.5287\n",
      "Epoch 39/50\n",
      "359/359 [==============================] - 242s 673ms/step - loss: 0.2352 - accuracy: 0.9617 - val_loss: 3.7054 - val_accuracy: 0.5428\n",
      "Epoch 40/50\n",
      "359/359 [==============================] - 240s 669ms/step - loss: 0.2307 - accuracy: 0.9644 - val_loss: 3.8106 - val_accuracy: 0.5387\n",
      "Epoch 41/50\n",
      "359/359 [==============================] - 258s 719ms/step - loss: 0.2216 - accuracy: 0.9683 - val_loss: 4.0659 - val_accuracy: 0.5380\n",
      "Epoch 42/50\n",
      "359/359 [==============================] - 251s 699ms/step - loss: 0.2177 - accuracy: 0.9702 - val_loss: 3.8176 - val_accuracy: 0.5479\n",
      "Epoch 43/50\n",
      "359/359 [==============================] - 242s 673ms/step - loss: 0.2200 - accuracy: 0.9705 - val_loss: 3.9957 - val_accuracy: 0.5425\n",
      "Epoch 44/50\n",
      "359/359 [==============================] - 230s 641ms/step - loss: 0.2404 - accuracy: 0.9619 - val_loss: 3.7777 - val_accuracy: 0.5334\n",
      "Epoch 45/50\n",
      "359/359 [==============================] - 233s 650ms/step - loss: 0.2255 - accuracy: 0.9683 - val_loss: 4.0192 - val_accuracy: 0.5333\n",
      "Epoch 46/50\n",
      "359/359 [==============================] - 230s 642ms/step - loss: 0.2151 - accuracy: 0.9725 - val_loss: 3.9256 - val_accuracy: 0.5489\n",
      "Epoch 47/50\n",
      "359/359 [==============================] - 229s 637ms/step - loss: 0.2262 - accuracy: 0.9688 - val_loss: 3.9065 - val_accuracy: 0.5408\n",
      "Epoch 48/50\n",
      "359/359 [==============================] - 230s 640ms/step - loss: 0.2160 - accuracy: 0.9727 - val_loss: 3.7049 - val_accuracy: 0.5361\n",
      "Epoch 49/50\n",
      "359/359 [==============================] - 772s 2s/step - loss: 0.2130 - accuracy: 0.9750 - val_loss: 3.9568 - val_accuracy: 0.5401\n",
      "Epoch 50/50\n",
      "359/359 [==============================] - 162s 453ms/step - loss: 0.2390 - accuracy: 0.9654 - val_loss: 4.0422 - val_accuracy: 0.5435\n"
     ]
    }
   ],
   "source": [
    "history = model.fit(partial_X_train, \n",
    "                    partial_y_train, \n",
    "                    batch_size=64, \n",
    "                    epochs=50, \n",
    "                    validation_data=(X_val, y_val))"
   ]
  },
  {
   "cell_type": "code",
   "execution_count": 38,
   "id": "aff0fb44",
   "metadata": {},
   "outputs": [],
   "source": [
    "tuner_history = history.history"
   ]
  },
  {
   "cell_type": "code",
   "execution_count": 39,
   "id": "9a64e1bc",
   "metadata": {},
   "outputs": [],
   "source": [
    "# Define plotting of the accuracy graph for efficiency\n",
    "def plot_graph(history):\n",
    "    plt.plot(history['accuracy'], label=\"Train Accuracy\") # blue \n",
    "    plt.plot(history['val_accuracy'], label=\"Validation Accuracy\") # orange\n",
    "    plt.legend()\n",
    "    plt.title('Accuracy Graph')\n",
    "    plt.xlabel('epochs')\n",
    "    plt.ylabel('Accuracy')\n",
    "    plt.show()"
   ]
  },
  {
   "cell_type": "code",
   "execution_count": 40,
   "id": "cf982678",
   "metadata": {},
   "outputs": [
    {
     "data": {
      "image/png": "[encoded data removed]",
      "text/plain": [
       "<Figure size 432x288 with 1 Axes>"
      ]
     },
     "metadata": {
      "needs_background": "light"
     },
     "output_type": "display_data"
    }
   ],
   "source": [
    "plot_graph(tuner_history)"
   ]
  },
  {
   "cell_type": "code",
   "execution_count": 41,
   "id": "082f690b",
   "metadata": {},
   "outputs": [
    {
     "name": "stdout",
     "output_type": "stream",
     "text": [
      "225/225 [==============================] - 10s 45ms/step - loss: 4.1506 - accuracy: 0.5424\n"
     ]
    }
   ],
   "source": [
    "test_loss, test_acc = model.evaluate(x_test, y_test)"
   ]
  },
  {
   "cell_type": "markdown",
   "id": "f9345f5f",
   "metadata": {},
   "source": [
    "From the results above, the model achieved 96% training accuracy and 54% testing accuracy. Evidently, overfitting occurred as seen from the accuracy scores and by analysing the graph. Next, we define the same model but this time with data augmentation. "
   ]
  },
  {
   "cell_type": "markdown",
   "id": "3cdacf11",
   "metadata": {},
   "source": [
    "## Model using optimal hyperparameters (with data augmentation)\n",
    "The model is first built."
   ]
  },
  {
   "cell_type": "code",
   "execution_count": 42,
   "id": "4d63d39c",
   "metadata": {},
   "outputs": [],
   "source": [
    "model = models.Sequential()\n",
    "\n",
    "model.add(Conv2D(128, kernel_size=(3,3), activation='relu', input_shape=(48,48,1), \n",
    "                 kernel_regularizer=tf.keras.regularizers.L2(0.00011)))\n",
    "model.add(MaxPooling2D(pool_size=(2,2)))\n",
    "\n",
    "model.add(Conv2D(256, kernel_size=(3,3), activation='relu', \n",
    "                 kernel_regularizer=tf.keras.regularizers.L2(0.00002)))\n",
    "model.add(MaxPooling2D(pool_size=(2,2)))\n",
    "\n",
    "model.add(Conv2D(128, kernel_size=(3,3), activation='relu', \n",
    "                 kernel_regularizer=tf.keras.regularizers.L2(0.00014)))\n",
    "model.add(MaxPooling2D(pool_size=(2,2)))\n",
    "\n",
    "model.add(Flatten())\n",
    "# fully connected layers\n",
    "model.add(Dense(512, activation='relu', kernel_regularizer=tf.keras.regularizers.L2(0.00008)))\n",
    "model.add(Dense(256, activation='relu', kernel_regularizer=tf.keras.regularizers.L2(0.00002)))\n",
    "# output layer\n",
    "model.add(Dense(7, activation='softmax'))\n",
    "\n",
    "tf.random.set_seed(42)\n",
    "model.compile(optimizer='adam', loss='categorical_crossentropy', metrics='accuracy')"
   ]
  },
  {
   "cell_type": "code",
   "execution_count": 43,
   "id": "883b8ff5",
   "metadata": {},
   "outputs": [],
   "source": [
    "# Setting up an image data augmentation configuration \n",
    "# using ImageDataGenerator which augments the images based on the features specified\n",
    "train_imagegen = ImageDataGenerator(rotation_range=30,\n",
    "                                    width_shift_range=0.1,\n",
    "                                    height_shift_range=0.1,\n",
    "                                    shear_range=0.2,\n",
    "                                    zoom_range=0.2,\n",
    "                                    horizontal_flip=True,\n",
    "                                    fill_mode='nearest')"
   ]
  },
  {
   "cell_type": "code",
   "execution_count": 44,
   "id": "15217ff6",
   "metadata": {},
   "outputs": [],
   "source": [
    "# fit the image data generator to the training data\n",
    "train_imagegen.fit(x_train)"
   ]
  },
  {
   "cell_type": "code",
   "execution_count": 45,
   "id": "6de6a686",
   "metadata": {},
   "outputs": [],
   "source": [
    "# Generated batches of augmented data that are separated into partial and validation datasets\n",
    "ptrain_image_generators = train_imagegen.flow(partial_X_train, partial_y_train)\n",
    "val_image_generators = train_imagegen.flow(X_val, y_val)"
   ]
  },
  {
   "cell_type": "code",
   "execution_count": 47,
   "id": "7c942556",
   "metadata": {},
   "outputs": [
    {
     "name": "stdout",
     "output_type": "stream",
     "text": [
      "Epoch 1/50\n",
      "718/718 [==============================] - 148s 206ms/step - loss: 1.8196 - accuracy: 0.2545 - val_loss: 1.7820 - val_accuracy: 0.2558\n",
      "Epoch 2/50\n",
      "718/718 [==============================] - 172s 240ms/step - loss: 1.7581 - accuracy: 0.2745 - val_loss: 1.7407 - val_accuracy: 0.2692\n",
      "Epoch 3/50\n",
      "718/718 [==============================] - 175s 244ms/step - loss: 1.7216 - accuracy: 0.2999 - val_loss: 1.6863 - val_accuracy: 0.3224\n",
      "Epoch 4/50\n",
      "718/718 [==============================] - 180s 250ms/step - loss: 1.6664 - accuracy: 0.3391 - val_loss: 1.6457 - val_accuracy: 0.3504\n",
      "Epoch 5/50\n",
      "718/718 [==============================] - 182s 254ms/step - loss: 1.6095 - accuracy: 0.3728 - val_loss: 1.5874 - val_accuracy: 0.3856\n",
      "Epoch 6/50\n",
      "718/718 [==============================] - 183s 255ms/step - loss: 1.5663 - accuracy: 0.3952 - val_loss: 1.5897 - val_accuracy: 0.3777\n",
      "Epoch 7/50\n",
      "718/718 [==============================] - 187s 260ms/step - loss: 1.5283 - accuracy: 0.4151 - val_loss: 1.5141 - val_accuracy: 0.4101\n",
      "Epoch 8/50\n",
      "718/718 [==============================] - 187s 260ms/step - loss: 1.5016 - accuracy: 0.4283 - val_loss: 1.4959 - val_accuracy: 0.4314\n",
      "Epoch 9/50\n",
      "718/718 [==============================] - 188s 261ms/step - loss: 1.4743 - accuracy: 0.4378 - val_loss: 1.4771 - val_accuracy: 0.4425\n",
      "Epoch 10/50\n",
      "718/718 [==============================] - 186s 260ms/step - loss: 1.4582 - accuracy: 0.4429 - val_loss: 1.4415 - val_accuracy: 0.4518\n",
      "Epoch 11/50\n",
      "718/718 [==============================] - 187s 260ms/step - loss: 1.4366 - accuracy: 0.4543 - val_loss: 1.4333 - val_accuracy: 0.4591\n",
      "Epoch 12/50\n",
      "718/718 [==============================] - 187s 260ms/step - loss: 1.4168 - accuracy: 0.4658 - val_loss: 1.4338 - val_accuracy: 0.4577\n",
      "Epoch 13/50\n",
      "718/718 [==============================] - 188s 262ms/step - loss: 1.4094 - accuracy: 0.4694 - val_loss: 1.4216 - val_accuracy: 0.4671\n",
      "Epoch 14/50\n",
      "718/718 [==============================] - 188s 262ms/step - loss: 1.3975 - accuracy: 0.4736 - val_loss: 1.4021 - val_accuracy: 0.4716\n",
      "Epoch 15/50\n",
      "718/718 [==============================] - 199s 278ms/step - loss: 1.3863 - accuracy: 0.4795 - val_loss: 1.4058 - val_accuracy: 0.4742\n",
      "Epoch 16/50\n",
      "718/718 [==============================] - 186s 259ms/step - loss: 1.3721 - accuracy: 0.4874 - val_loss: 1.3811 - val_accuracy: 0.4821\n",
      "Epoch 17/50\n",
      "718/718 [==============================] - 185s 258ms/step - loss: 1.3700 - accuracy: 0.4887 - val_loss: 1.3706 - val_accuracy: 0.4897\n",
      "Epoch 18/50\n",
      "718/718 [==============================] - 184s 256ms/step - loss: 1.3592 - accuracy: 0.4971 - val_loss: 1.3673 - val_accuracy: 0.4922\n",
      "Epoch 19/50\n",
      "718/718 [==============================] - 183s 255ms/step - loss: 1.3497 - accuracy: 0.4975 - val_loss: 1.3878 - val_accuracy: 0.4819\n",
      "Epoch 20/50\n",
      "718/718 [==============================] - 182s 254ms/step - loss: 1.3449 - accuracy: 0.4978 - val_loss: 1.3605 - val_accuracy: 0.4883\n",
      "Epoch 21/50\n",
      "718/718 [==============================] - 183s 254ms/step - loss: 1.3409 - accuracy: 0.5012 - val_loss: 1.3413 - val_accuracy: 0.4970\n",
      "Epoch 22/50\n",
      "718/718 [==============================] - 179s 249ms/step - loss: 1.3335 - accuracy: 0.5039 - val_loss: 1.3924 - val_accuracy: 0.4833\n",
      "Epoch 23/50\n",
      "718/718 [==============================] - 179s 249ms/step - loss: 1.3353 - accuracy: 0.5058 - val_loss: 1.3317 - val_accuracy: 0.5035\n",
      "Epoch 24/50\n",
      "718/718 [==============================] - 177s 246ms/step - loss: 1.3215 - accuracy: 0.5111 - val_loss: 1.3339 - val_accuracy: 0.5064\n",
      "Epoch 25/50\n",
      "718/718 [==============================] - 177s 246ms/step - loss: 1.3177 - accuracy: 0.5145 - val_loss: 1.3316 - val_accuracy: 0.5077\n",
      "Epoch 26/50\n",
      "718/718 [==============================] - 177s 247ms/step - loss: 1.3150 - accuracy: 0.5178 - val_loss: 1.3193 - val_accuracy: 0.5150\n",
      "Epoch 27/50\n",
      "718/718 [==============================] - 180s 250ms/step - loss: 1.3091 - accuracy: 0.5177 - val_loss: 1.3355 - val_accuracy: 0.5051\n",
      "Epoch 28/50\n",
      "718/718 [==============================] - 178s 247ms/step - loss: 1.3095 - accuracy: 0.5221 - val_loss: 1.3450 - val_accuracy: 0.5026\n",
      "Epoch 29/50\n",
      "718/718 [==============================] - 174s 243ms/step - loss: 1.3030 - accuracy: 0.5199 - val_loss: 1.3284 - val_accuracy: 0.5054\n",
      "Epoch 30/50\n",
      "718/718 [==============================] - 176s 245ms/step - loss: 1.3095 - accuracy: 0.5160 - val_loss: 1.3265 - val_accuracy: 0.5103\n",
      "Epoch 31/50\n",
      "718/718 [==============================] - 177s 247ms/step - loss: 1.2944 - accuracy: 0.5228 - val_loss: 1.3056 - val_accuracy: 0.5226\n",
      "Epoch 32/50\n",
      "718/718 [==============================] - 178s 248ms/step - loss: 1.2906 - accuracy: 0.5261 - val_loss: 1.3179 - val_accuracy: 0.5200\n",
      "Epoch 33/50\n",
      "718/718 [==============================] - 175s 243ms/step - loss: 1.2903 - accuracy: 0.5315 - val_loss: 1.3165 - val_accuracy: 0.5145\n",
      "Epoch 34/50\n",
      "718/718 [==============================] - 175s 243ms/step - loss: 1.2849 - accuracy: 0.5285 - val_loss: 1.3401 - val_accuracy: 0.5044\n",
      "Epoch 35/50\n",
      "718/718 [==============================] - 178s 248ms/step - loss: 1.2773 - accuracy: 0.5328 - val_loss: 1.2980 - val_accuracy: 0.5219\n",
      "Epoch 36/50\n",
      "718/718 [==============================] - 42175s 59s/step - loss: 1.2863 - accuracy: 0.5316 - val_loss: 1.3077 - val_accuracy: 0.5199\n",
      "Epoch 37/50\n",
      "718/718 [==============================] - 21255s 30s/step - loss: 1.2831 - accuracy: 0.5325 - val_loss: 1.3024 - val_accuracy: 0.5225\n",
      "Epoch 38/50\n",
      "718/718 [==============================] - 157s 219ms/step - loss: 1.2754 - accuracy: 0.5342 - val_loss: 1.2970 - val_accuracy: 0.5199\n",
      "Epoch 39/50\n",
      "718/718 [==============================] - 157s 219ms/step - loss: 1.2722 - accuracy: 0.5345 - val_loss: 1.3443 - val_accuracy: 0.5096\n",
      "Epoch 40/50\n",
      "718/718 [==============================] - 155s 216ms/step - loss: 1.2738 - accuracy: 0.5341 - val_loss: 1.3096 - val_accuracy: 0.5172\n",
      "Epoch 41/50\n",
      "718/718 [==============================] - 170s 236ms/step - loss: 1.2729 - accuracy: 0.5377 - val_loss: 1.3044 - val_accuracy: 0.5178\n",
      "Epoch 42/50\n",
      "718/718 [==============================] - 178s 248ms/step - loss: 1.2729 - accuracy: 0.5340 - val_loss: 1.2868 - val_accuracy: 0.5277\n",
      "Epoch 43/50\n",
      "718/718 [==============================] - 187s 260ms/step - loss: 1.2683 - accuracy: 0.5345 - val_loss: 1.2890 - val_accuracy: 0.5272\n",
      "Epoch 44/50\n",
      "718/718 [==============================] - 193s 269ms/step - loss: 1.2640 - accuracy: 0.5425 - val_loss: 1.3369 - val_accuracy: 0.5037\n",
      "Epoch 45/50\n",
      "718/718 [==============================] - 194s 270ms/step - loss: 1.2608 - accuracy: 0.5427 - val_loss: 1.3000 - val_accuracy: 0.5223\n",
      "Epoch 46/50\n",
      "718/718 [==============================] - 201s 279ms/step - loss: 1.2580 - accuracy: 0.5375 - val_loss: 1.2957 - val_accuracy: 0.5120\n",
      "Epoch 47/50\n",
      "718/718 [==============================] - 213s 296ms/step - loss: 1.2590 - accuracy: 0.5449 - val_loss: 1.2773 - val_accuracy: 0.5347\n",
      "Epoch 48/50\n",
      "718/718 [==============================] - 223s 310ms/step - loss: 1.2523 - accuracy: 0.5428 - val_loss: 1.3029 - val_accuracy: 0.5181\n",
      "Epoch 49/50\n",
      "718/718 [==============================] - 232s 323ms/step - loss: 1.2551 - accuracy: 0.5446 - val_loss: 1.2996 - val_accuracy: 0.5341\n",
      "Epoch 50/50\n",
      "718/718 [==============================] - 237s 330ms/step - loss: 1.2545 - accuracy: 0.5406 - val_loss: 1.2899 - val_accuracy: 0.5320\n"
     ]
    }
   ],
   "source": [
    "# fits the model on the predefined batches with real-time data augmentation\n",
    "data_aug_history = model.fit(ptrain_image_generators,\n",
    "                             validation_data=val_image_generators,\n",
    "                             epochs=50, batch_size=64)"
   ]
  },
  {
   "cell_type": "code",
   "execution_count": 48,
   "id": "997dccda",
   "metadata": {
    "scrolled": true
   },
   "outputs": [
    {
     "data": {
      "image/png": "[encoded data removed]",
      "text/plain": [
       "<Figure size 432x288 with 1 Axes>"
      ]
     },
     "metadata": {
      "needs_background": "light"
     },
     "output_type": "display_data"
    }
   ],
   "source": [
    "plot_graph(data_aug_history.history)"
   ]
  },
  {
   "cell_type": "code",
   "execution_count": 49,
   "id": "bea83ea5",
   "metadata": {},
   "outputs": [
    {
     "name": "stdout",
     "output_type": "stream",
     "text": [
      "Model: \"sequential_2\"\n",
      "_________________________________________________________________\n",
      " Layer (type)                Output Shape              Param #   \n",
      "=================================================================\n",
      " conv2d_6 (Conv2D)           (None, 46, 46, 128)       1280      \n",
      "                                                                 \n",
      " max_pooling2d_6 (MaxPooling  (None, 23, 23, 128)      0         \n",
      " 2D)                                                             \n",
      "                                                                 \n",
      " conv2d_7 (Conv2D)           (None, 21, 21, 256)       295168    \n",
      "                                                                 \n",
      " max_pooling2d_7 (MaxPooling  (None, 10, 10, 256)      0         \n",
      " 2D)                                                             \n",
      "                                                                 \n",
      " conv2d_8 (Conv2D)           (None, 8, 8, 128)         295040    \n",
      "                                                                 \n",
      " max_pooling2d_8 (MaxPooling  (None, 4, 4, 128)        0         \n",
      " 2D)                                                             \n",
      "                                                                 \n",
      " flatten_2 (Flatten)         (None, 2048)              0         \n",
      "                                                                 \n",
      " dense_6 (Dense)             (None, 512)               1049088   \n",
      "                                                                 \n",
      " dense_7 (Dense)             (None, 256)               131328    \n",
      "                                                                 \n",
      " dense_8 (Dense)             (None, 7)                 1799      \n",
      "                                                                 \n",
      "=================================================================\n",
      "Total params: 1,773,703\n",
      "Trainable params: 1,773,703\n",
      "Non-trainable params: 0\n",
      "_________________________________________________________________\n"
     ]
    }
   ],
   "source": [
    "model.save('data_aug.h5')\n",
    "model = load_model('data_aug.h5')\n",
    "model.summary()"
   ]
  },
  {
   "cell_type": "code",
   "execution_count": 50,
   "id": "0b92c623",
   "metadata": {},
   "outputs": [
    {
     "name": "stdout",
     "output_type": "stream",
     "text": [
      "225/225 [==============================] - 11s 45ms/step - loss: 1.1981 - accuracy: 0.5708\n"
     ]
    }
   ],
   "source": [
    "test_loss, test_acc = model.evaluate(x_test, y_test)"
   ]
  },
  {
   "cell_type": "markdown",
   "id": "03727450",
   "metadata": {},
   "source": [
    "The model that uses data augmentation achieved 54% training accuracy and 57% testing accuracy. \n",
    "Comparing the models with and without augmentation, it is clear that the model without data augmentation has significantly higher training accuracy. However, it has lower testing accuracy. Additionally, it is clear that it has low generalizability as it stops improving after around epoch 8. Thus, we can conclude that the model with data augmentation improves the generalizability of the model and thus a higher test accuracy as the model is able to apply the knowledge from its training to an unseen task.\n",
    "\n",
    "Next, we proceed with transfer learning which trains the dataset on tensorflow keras' pretrained convnets. Continuation of the process flow can be found in Notebook 3."
   ]
  },
  {
   "cell_type": "markdown",
   "id": "3ae01c87",
   "metadata": {},
   "source": [
    "## View the augmented images\n",
    "Code was adapted from Deep Learning with Python (Chollet, 2018)"
   ]
  },
  {
   "cell_type": "code",
   "execution_count": 51,
   "id": "5aa72cf2",
   "metadata": {},
   "outputs": [
    {
     "name": "stdout",
     "output_type": "stream",
     "text": [
      "fer2013/train/surprise/Training_16433189.jpg\n"
     ]
    },
    {
     "data": {
      "image/png": "[encoded data removed]",
      "text/plain": [
       "<Figure size 432x288 with 1 Axes>"
      ]
     },
     "metadata": {
      "needs_background": "light"
     },
     "output_type": "display_data"
    },
    {
     "data": {
      "image/png": "[encoded data removed]",
      "text/plain": [
       "<Figure size 432x288 with 1 Axes>"
      ]
     },
     "metadata": {
      "needs_background": "light"
     },
     "output_type": "display_data"
    },
    {
     "data": {
      "image/png": "[encoded data removed]",
      "text/plain": [
       "<Figure size 432x288 with 1 Axes>"
      ]
     },
     "metadata": {
      "needs_background": "light"
     },
     "output_type": "display_data"
    }
   ],
   "source": [
    "random_number = random.randint(0, len(train_df))\n",
    "# Chooses one random image from train dataset to augment\n",
    "img_path = train_df['image'][random_number]\n",
    "print(img_path)\n",
    "img = image.load_img(img_path) # Reads the image \n",
    "\n",
    "x = image.img_to_array(img) # Converts to a Numpy array with shape (48, 48, 3)\n",
    "x = x.reshape((1,) + x.shape) # Reshapes it to (1, 48, 48, 3)\n",
    "\n",
    "# Generates batches of randomly transformed images. An infinite loop, so need to break it\n",
    "l = 0\n",
    "for batch in train_imagegen.flow(x, batch_size=1):\n",
    "    plt.figure(l)\n",
    "    imgplot = plt.imshow(image.array_to_img(batch[0]))\n",
    "    l += 1\n",
    "    if l == 3:\n",
    "        break\n",
    "plt.show()"
   ]
  },
  {
   "cell_type": "markdown",
   "id": "21c11551",
   "metadata": {},
   "source": [
    "# Reference "
   ]
  },
  {
   "cell_type": "markdown",
   "id": "63a55e05",
   "metadata": {},
   "source": [
    "1. (Chollet, 2018)\n",
    "\n",
    "Chollet, F., 2018. Deep Learning with Python. USA: Manning Publications Co., p.139-140."
   ]
  }
 ],
 "metadata": {
  "kernelspec": {
   "display_name": "Python 3 (ipykernel)",
   "language": "python",
   "name": "python3"
  },
  "language_info": {
   "codemirror_mode": {
    "name": "ipython",
    "version": 3
   },
   "file_extension": ".py",
   "mimetype": "text/x-python",
   "name": "python",
   "nbconvert_exporter": "python",
   "pygments_lexer": "ipython3",
   "version": "3.9.12"
  }
 },
 "nbformat": 4,
 "nbformat_minor": 5
}
